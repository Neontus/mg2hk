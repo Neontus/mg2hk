{
 "cells": [
  {
   "cell_type": "markdown",
   "id": "a1948fc1-a941-4b5f-b6bb-aaceeda57a49",
   "metadata": {},
   "source": [
    "# Analyzing Different Optimization Methods for Solar Raster Co-Alignment\n",
    "#### Author: Juno Kim\n",
    "\n",
    "### Table of Contents:\n",
    "* [Inputs](#inputs)\n",
    "* [Cleaning Datasets](#clean)\n",
    "#### Small Dataset\n",
    "* [Basic Statistics](#basicstats)\n",
    "    * [Minimize Method](#m1)\n",
    "    * [Evolve Method](#d1)\n",
    "    * [Basin Hopping Method](#b1)\n",
    "* [Comparison](#compare1)\n",
    "* [Conclusions](#conclude1)\n",
    "#### Large Dataset\n",
    "* [Minimize Method](#m2)\n",
    "* [Evolve Method](#d2)\n",
    "* [Basin Hopping Method](#b2)\n",
    "* [Final Conclusions](#conclude2)\n",
    "    * [Error Analysis](#error)"
   ]
  },
  {
   "cell_type": "markdown",
   "id": "9974041e-d5e9-4879-9cb8-f6ffab8dca92",
   "metadata": {
    "jp-MarkdownHeadingCollapsed": true,
    "tags": []
   },
   "source": [
    "## Inputs <a class=\"anchor\" id=\"inputs\"></a>"
   ]
  },
  {
   "cell_type": "code",
   "execution_count": 1,
   "id": "de15adbc-d0dc-48aa-b5f6-9944041189a8",
   "metadata": {},
   "outputs": [],
   "source": [
    "import numpy as np\n",
    "import os\n",
    "import pandas as pd\n",
    "import scipy\n",
    "import matplotlib.pyplot as plt\n",
    "import statistics"
   ]
  },
  {
   "cell_type": "code",
   "execution_count": 25,
   "id": "06339c46-74ce-42a2-9094-566ff22b674f",
   "metadata": {},
   "outputs": [],
   "source": [
    "minimize_filename = \"optimized_results.csv\"\n",
    "differential_filename = \"evolve_results.csv\"\n",
    "basin_filename = \"basin_results.csv\"\n",
    "mass_minimize_filename = \"mass_results_minimize.csv\"\n",
    "mass_evolve_filename = \"mass_results_evolve.csv\"\n",
    "mass_basin_filename = \"mass_results_basin.csv\""
   ]
  },
  {
   "cell_type": "code",
   "execution_count": 26,
   "id": "57712533-bc7a-4954-80bf-a867968dbc83",
   "metadata": {},
   "outputs": [],
   "source": [
    "minimize_csv = pd.read_csv(minimize_filename)\n",
    "differential_csv = pd.read_csv(differential_filename)\n",
    "basin_csv = pd.read_csv(basin_filename)\n",
    "mass_min_csv = pd.read_csv(mass_minimize_filename)\n",
    "mass_evolve_csv = pd.read_csv(mass_evolve_filename)\n",
    "mass_basin_csv = pd.read_csv(mass_basin_filename)"
   ]
  },
  {
   "cell_type": "markdown",
   "id": "15de4b95-b653-42bc-92fc-e11096acce36",
   "metadata": {
    "tags": []
   },
   "source": [
    "## Cleaning  <a class=\"anchor\" id=\"clean\"></a>"
   ]
  },
  {
   "cell_type": "markdown",
   "id": "fbe28af5-87a2-465c-971f-99a94ee8aaaf",
   "metadata": {
    "tags": []
   },
   "source": [
    "### Removing failed attempts (RESULT = 100000)"
   ]
  },
  {
   "cell_type": "code",
   "execution_count": 27,
   "id": "b222fb1a-35a9-4243-ab78-878f6ce8f77f",
   "metadata": {},
   "outputs": [],
   "source": [
    "test = minimize_csv.copy()"
   ]
  },
  {
   "cell_type": "code",
   "execution_count": 28,
   "id": "abacbde7-ae8e-4d19-80b8-af804313e71d",
   "metadata": {},
   "outputs": [
    {
     "data": {
      "text/html": [
       "<div>\n",
       "<style scoped>\n",
       "    .dataframe tbody tr th:only-of-type {\n",
       "        vertical-align: middle;\n",
       "    }\n",
       "\n",
       "    .dataframe tbody tr th {\n",
       "        vertical-align: top;\n",
       "    }\n",
       "\n",
       "    .dataframe thead th {\n",
       "        text-align: right;\n",
       "    }\n",
       "</style>\n",
       "<table border=\"1\" class=\"dataframe\">\n",
       "  <thead>\n",
       "    <tr style=\"text-align: right;\">\n",
       "      <th></th>\n",
       "      <th>Unnamed: 0</th>\n",
       "      <th>OBSID</th>\n",
       "      <th>AIA_N_GUESS</th>\n",
       "      <th>IRIS_N_GUESS</th>\n",
       "      <th>BLUR_GUESS</th>\n",
       "      <th>OPTIMIZED_AIA</th>\n",
       "      <th>OPTIMIZED_IRIS</th>\n",
       "      <th>OPTIMIZED_BLUR</th>\n",
       "      <th>RESULT</th>\n",
       "    </tr>\n",
       "  </thead>\n",
       "  <tbody>\n",
       "    <tr>\n",
       "      <th>0</th>\n",
       "      <td>0</td>\n",
       "      <td>20221008_030317_3620108077</td>\n",
       "      <td>0.19</td>\n",
       "      <td>0.10</td>\n",
       "      <td>20</td>\n",
       "      <td>0.190000</td>\n",
       "      <td>0.102500</td>\n",
       "      <td>20.000000</td>\n",
       "      <td>1359.916272</td>\n",
       "    </tr>\n",
       "    <tr>\n",
       "      <th>1</th>\n",
       "      <td>1</td>\n",
       "      <td>20221008_030317_3620108077</td>\n",
       "      <td>0.19</td>\n",
       "      <td>0.10</td>\n",
       "      <td>25</td>\n",
       "      <td>0.190000</td>\n",
       "      <td>0.104375</td>\n",
       "      <td>25.000000</td>\n",
       "      <td>1359.916272</td>\n",
       "    </tr>\n",
       "    <tr>\n",
       "      <th>2</th>\n",
       "      <td>2</td>\n",
       "      <td>20221008_030317_3620108077</td>\n",
       "      <td>0.19</td>\n",
       "      <td>0.15</td>\n",
       "      <td>20</td>\n",
       "      <td>0.192375</td>\n",
       "      <td>0.148125</td>\n",
       "      <td>20.250000</td>\n",
       "      <td>1195.161128</td>\n",
       "    </tr>\n",
       "    <tr>\n",
       "      <th>3</th>\n",
       "      <td>3</td>\n",
       "      <td>20221008_030317_3620108077</td>\n",
       "      <td>0.19</td>\n",
       "      <td>0.15</td>\n",
       "      <td>25</td>\n",
       "      <td>0.194137</td>\n",
       "      <td>0.145549</td>\n",
       "      <td>24.862291</td>\n",
       "      <td>1195.161128</td>\n",
       "    </tr>\n",
       "    <tr>\n",
       "      <th>4</th>\n",
       "      <td>4</td>\n",
       "      <td>20221008_030317_3620108077</td>\n",
       "      <td>0.19</td>\n",
       "      <td>0.20</td>\n",
       "      <td>20</td>\n",
       "      <td>0.194738</td>\n",
       "      <td>0.200013</td>\n",
       "      <td>19.993490</td>\n",
       "      <td>1210.054771</td>\n",
       "    </tr>\n",
       "    <tr>\n",
       "      <th>...</th>\n",
       "      <td>...</td>\n",
       "      <td>...</td>\n",
       "      <td>...</td>\n",
       "      <td>...</td>\n",
       "      <td>...</td>\n",
       "      <td>...</td>\n",
       "      <td>...</td>\n",
       "      <td>...</td>\n",
       "      <td>...</td>\n",
       "    </tr>\n",
       "    <tr>\n",
       "      <th>283</th>\n",
       "      <td>283</td>\n",
       "      <td>20220730_125009_3620112077</td>\n",
       "      <td>0.23</td>\n",
       "      <td>0.35</td>\n",
       "      <td>25</td>\n",
       "      <td>0.218500</td>\n",
       "      <td>0.361667</td>\n",
       "      <td>25.833333</td>\n",
       "      <td>68496.925343</td>\n",
       "    </tr>\n",
       "    <tr>\n",
       "      <th>284</th>\n",
       "      <td>284</td>\n",
       "      <td>20220730_125009_3620112077</td>\n",
       "      <td>0.23</td>\n",
       "      <td>0.40</td>\n",
       "      <td>20</td>\n",
       "      <td>0.224197</td>\n",
       "      <td>0.420278</td>\n",
       "      <td>20.125000</td>\n",
       "      <td>66851.860670</td>\n",
       "    </tr>\n",
       "    <tr>\n",
       "      <th>285</th>\n",
       "      <td>285</td>\n",
       "      <td>20220730_125009_3620112077</td>\n",
       "      <td>0.23</td>\n",
       "      <td>0.40</td>\n",
       "      <td>25</td>\n",
       "      <td>0.230000</td>\n",
       "      <td>0.420000</td>\n",
       "      <td>25.000000</td>\n",
       "      <td>66996.953552</td>\n",
       "    </tr>\n",
       "    <tr>\n",
       "      <th>286</th>\n",
       "      <td>286</td>\n",
       "      <td>20220730_125009_3620112077</td>\n",
       "      <td>0.23</td>\n",
       "      <td>0.45</td>\n",
       "      <td>20</td>\n",
       "      <td>0.219352</td>\n",
       "      <td>0.460833</td>\n",
       "      <td>20.185185</td>\n",
       "      <td>66682.547705</td>\n",
       "    </tr>\n",
       "    <tr>\n",
       "      <th>287</th>\n",
       "      <td>287</td>\n",
       "      <td>20220730_125009_3620112077</td>\n",
       "      <td>0.23</td>\n",
       "      <td>0.45</td>\n",
       "      <td>25</td>\n",
       "      <td>0.221375</td>\n",
       "      <td>0.466875</td>\n",
       "      <td>24.687500</td>\n",
       "      <td>66777.021729</td>\n",
       "    </tr>\n",
       "  </tbody>\n",
       "</table>\n",
       "<p>288 rows × 9 columns</p>\n",
       "</div>"
      ],
      "text/plain": [
       "     Unnamed: 0                       OBSID  AIA_N_GUESS  IRIS_N_GUESS  \\\n",
       "0             0  20221008_030317_3620108077         0.19          0.10   \n",
       "1             1  20221008_030317_3620108077         0.19          0.10   \n",
       "2             2  20221008_030317_3620108077         0.19          0.15   \n",
       "3             3  20221008_030317_3620108077         0.19          0.15   \n",
       "4             4  20221008_030317_3620108077         0.19          0.20   \n",
       "..          ...                         ...          ...           ...   \n",
       "283         283  20220730_125009_3620112077         0.23          0.35   \n",
       "284         284  20220730_125009_3620112077         0.23          0.40   \n",
       "285         285  20220730_125009_3620112077         0.23          0.40   \n",
       "286         286  20220730_125009_3620112077         0.23          0.45   \n",
       "287         287  20220730_125009_3620112077         0.23          0.45   \n",
       "\n",
       "     BLUR_GUESS  OPTIMIZED_AIA  OPTIMIZED_IRIS  OPTIMIZED_BLUR        RESULT  \n",
       "0            20       0.190000        0.102500       20.000000   1359.916272  \n",
       "1            25       0.190000        0.104375       25.000000   1359.916272  \n",
       "2            20       0.192375        0.148125       20.250000   1195.161128  \n",
       "3            25       0.194137        0.145549       24.862291   1195.161128  \n",
       "4            20       0.194738        0.200013       19.993490   1210.054771  \n",
       "..          ...            ...             ...             ...           ...  \n",
       "283          25       0.218500        0.361667       25.833333  68496.925343  \n",
       "284          20       0.224197        0.420278       20.125000  66851.860670  \n",
       "285          25       0.230000        0.420000       25.000000  66996.953552  \n",
       "286          20       0.219352        0.460833       20.185185  66682.547705  \n",
       "287          25       0.221375        0.466875       24.687500  66777.021729  \n",
       "\n",
       "[288 rows x 9 columns]"
      ]
     },
     "execution_count": 28,
     "metadata": {},
     "output_type": "execute_result"
    }
   ],
   "source": [
    "test"
   ]
  },
  {
   "cell_type": "code",
   "execution_count": 29,
   "id": "32150854-67b2-49b0-9aab-4d7e036a9966",
   "metadata": {},
   "outputs": [],
   "source": [
    "test.drop(test[test['RESULT'] == 100000].index, inplace=True)"
   ]
  },
  {
   "cell_type": "code",
   "execution_count": 30,
   "id": "0590598f-3fae-47fa-9bc1-61c43e9c8463",
   "metadata": {},
   "outputs": [
    {
     "data": {
      "text/html": [
       "<div>\n",
       "<style scoped>\n",
       "    .dataframe tbody tr th:only-of-type {\n",
       "        vertical-align: middle;\n",
       "    }\n",
       "\n",
       "    .dataframe tbody tr th {\n",
       "        vertical-align: top;\n",
       "    }\n",
       "\n",
       "    .dataframe thead th {\n",
       "        text-align: right;\n",
       "    }\n",
       "</style>\n",
       "<table border=\"1\" class=\"dataframe\">\n",
       "  <thead>\n",
       "    <tr style=\"text-align: right;\">\n",
       "      <th></th>\n",
       "      <th>Unnamed: 0</th>\n",
       "      <th>OBSID</th>\n",
       "      <th>AIA_N_GUESS</th>\n",
       "      <th>IRIS_N_GUESS</th>\n",
       "      <th>BLUR_GUESS</th>\n",
       "      <th>OPTIMIZED_AIA</th>\n",
       "      <th>OPTIMIZED_IRIS</th>\n",
       "      <th>OPTIMIZED_BLUR</th>\n",
       "      <th>RESULT</th>\n",
       "    </tr>\n",
       "  </thead>\n",
       "  <tbody>\n",
       "    <tr>\n",
       "      <th>0</th>\n",
       "      <td>0</td>\n",
       "      <td>20221008_030317_3620108077</td>\n",
       "      <td>0.19</td>\n",
       "      <td>0.10</td>\n",
       "      <td>20</td>\n",
       "      <td>0.190000</td>\n",
       "      <td>0.102500</td>\n",
       "      <td>20.000000</td>\n",
       "      <td>1359.916272</td>\n",
       "    </tr>\n",
       "    <tr>\n",
       "      <th>1</th>\n",
       "      <td>1</td>\n",
       "      <td>20221008_030317_3620108077</td>\n",
       "      <td>0.19</td>\n",
       "      <td>0.10</td>\n",
       "      <td>25</td>\n",
       "      <td>0.190000</td>\n",
       "      <td>0.104375</td>\n",
       "      <td>25.000000</td>\n",
       "      <td>1359.916272</td>\n",
       "    </tr>\n",
       "    <tr>\n",
       "      <th>2</th>\n",
       "      <td>2</td>\n",
       "      <td>20221008_030317_3620108077</td>\n",
       "      <td>0.19</td>\n",
       "      <td>0.15</td>\n",
       "      <td>20</td>\n",
       "      <td>0.192375</td>\n",
       "      <td>0.148125</td>\n",
       "      <td>20.250000</td>\n",
       "      <td>1195.161128</td>\n",
       "    </tr>\n",
       "    <tr>\n",
       "      <th>3</th>\n",
       "      <td>3</td>\n",
       "      <td>20221008_030317_3620108077</td>\n",
       "      <td>0.19</td>\n",
       "      <td>0.15</td>\n",
       "      <td>25</td>\n",
       "      <td>0.194137</td>\n",
       "      <td>0.145549</td>\n",
       "      <td>24.862291</td>\n",
       "      <td>1195.161128</td>\n",
       "    </tr>\n",
       "    <tr>\n",
       "      <th>4</th>\n",
       "      <td>4</td>\n",
       "      <td>20221008_030317_3620108077</td>\n",
       "      <td>0.19</td>\n",
       "      <td>0.20</td>\n",
       "      <td>20</td>\n",
       "      <td>0.194738</td>\n",
       "      <td>0.200013</td>\n",
       "      <td>19.993490</td>\n",
       "      <td>1210.054771</td>\n",
       "    </tr>\n",
       "    <tr>\n",
       "      <th>...</th>\n",
       "      <td>...</td>\n",
       "      <td>...</td>\n",
       "      <td>...</td>\n",
       "      <td>...</td>\n",
       "      <td>...</td>\n",
       "      <td>...</td>\n",
       "      <td>...</td>\n",
       "      <td>...</td>\n",
       "      <td>...</td>\n",
       "    </tr>\n",
       "    <tr>\n",
       "      <th>283</th>\n",
       "      <td>283</td>\n",
       "      <td>20220730_125009_3620112077</td>\n",
       "      <td>0.23</td>\n",
       "      <td>0.35</td>\n",
       "      <td>25</td>\n",
       "      <td>0.218500</td>\n",
       "      <td>0.361667</td>\n",
       "      <td>25.833333</td>\n",
       "      <td>68496.925343</td>\n",
       "    </tr>\n",
       "    <tr>\n",
       "      <th>284</th>\n",
       "      <td>284</td>\n",
       "      <td>20220730_125009_3620112077</td>\n",
       "      <td>0.23</td>\n",
       "      <td>0.40</td>\n",
       "      <td>20</td>\n",
       "      <td>0.224197</td>\n",
       "      <td>0.420278</td>\n",
       "      <td>20.125000</td>\n",
       "      <td>66851.860670</td>\n",
       "    </tr>\n",
       "    <tr>\n",
       "      <th>285</th>\n",
       "      <td>285</td>\n",
       "      <td>20220730_125009_3620112077</td>\n",
       "      <td>0.23</td>\n",
       "      <td>0.40</td>\n",
       "      <td>25</td>\n",
       "      <td>0.230000</td>\n",
       "      <td>0.420000</td>\n",
       "      <td>25.000000</td>\n",
       "      <td>66996.953552</td>\n",
       "    </tr>\n",
       "    <tr>\n",
       "      <th>286</th>\n",
       "      <td>286</td>\n",
       "      <td>20220730_125009_3620112077</td>\n",
       "      <td>0.23</td>\n",
       "      <td>0.45</td>\n",
       "      <td>20</td>\n",
       "      <td>0.219352</td>\n",
       "      <td>0.460833</td>\n",
       "      <td>20.185185</td>\n",
       "      <td>66682.547705</td>\n",
       "    </tr>\n",
       "    <tr>\n",
       "      <th>287</th>\n",
       "      <td>287</td>\n",
       "      <td>20220730_125009_3620112077</td>\n",
       "      <td>0.23</td>\n",
       "      <td>0.45</td>\n",
       "      <td>25</td>\n",
       "      <td>0.221375</td>\n",
       "      <td>0.466875</td>\n",
       "      <td>24.687500</td>\n",
       "      <td>66777.021729</td>\n",
       "    </tr>\n",
       "  </tbody>\n",
       "</table>\n",
       "<p>174 rows × 9 columns</p>\n",
       "</div>"
      ],
      "text/plain": [
       "     Unnamed: 0                       OBSID  AIA_N_GUESS  IRIS_N_GUESS  \\\n",
       "0             0  20221008_030317_3620108077         0.19          0.10   \n",
       "1             1  20221008_030317_3620108077         0.19          0.10   \n",
       "2             2  20221008_030317_3620108077         0.19          0.15   \n",
       "3             3  20221008_030317_3620108077         0.19          0.15   \n",
       "4             4  20221008_030317_3620108077         0.19          0.20   \n",
       "..          ...                         ...          ...           ...   \n",
       "283         283  20220730_125009_3620112077         0.23          0.35   \n",
       "284         284  20220730_125009_3620112077         0.23          0.40   \n",
       "285         285  20220730_125009_3620112077         0.23          0.40   \n",
       "286         286  20220730_125009_3620112077         0.23          0.45   \n",
       "287         287  20220730_125009_3620112077         0.23          0.45   \n",
       "\n",
       "     BLUR_GUESS  OPTIMIZED_AIA  OPTIMIZED_IRIS  OPTIMIZED_BLUR        RESULT  \n",
       "0            20       0.190000        0.102500       20.000000   1359.916272  \n",
       "1            25       0.190000        0.104375       25.000000   1359.916272  \n",
       "2            20       0.192375        0.148125       20.250000   1195.161128  \n",
       "3            25       0.194137        0.145549       24.862291   1195.161128  \n",
       "4            20       0.194738        0.200013       19.993490   1210.054771  \n",
       "..          ...            ...             ...             ...           ...  \n",
       "283          25       0.218500        0.361667       25.833333  68496.925343  \n",
       "284          20       0.224197        0.420278       20.125000  66851.860670  \n",
       "285          25       0.230000        0.420000       25.000000  66996.953552  \n",
       "286          20       0.219352        0.460833       20.185185  66682.547705  \n",
       "287          25       0.221375        0.466875       24.687500  66777.021729  \n",
       "\n",
       "[174 rows x 9 columns]"
      ]
     },
     "execution_count": 30,
     "metadata": {},
     "output_type": "execute_result"
    }
   ],
   "source": [
    "test"
   ]
  },
  {
   "cell_type": "code",
   "execution_count": 32,
   "id": "313a55fd-e3e6-49f3-9dad-b52ded103008",
   "metadata": {},
   "outputs": [],
   "source": [
    "minimize_csv.drop(minimize_csv[minimize_csv['RESULT'] == 100000].index, inplace=True)\n",
    "differential_csv.drop(differential_csv[differential_csv['RESULT'] == 100000].index, inplace=True)\n",
    "basin_csv.drop(basin_csv[basin_csv['RESULT'] == 100000].index, inplace=True)\n",
    "mass_min_csv.drop(mass_min_csv[mass_min_csv['RESULT'] == 100000].index, inplace=True)\n",
    "mass_evolve_csv.drop(mass_evolve_csv[mass_evolve_csv['RESULT'] == 100000].index, inplace=True)\n",
    "mass_basin_csv.drop(mass_basin_csv[mass_basin_csv['RESULT'] == 100000].index, inplace=True)"
   ]
  },
  {
   "cell_type": "markdown",
   "id": "5243e699-cf40-4e3c-91e1-74a9077d9819",
   "metadata": {
    "tags": []
   },
   "source": [
    "## Basic Stats  <a class=\"anchor\" id=\"basicstats\"></a>"
   ]
  },
  {
   "cell_type": "code",
   "execution_count": 74,
   "id": "ce7a0745-9722-4cd9-8956-eb101ed42965",
   "metadata": {},
   "outputs": [],
   "source": [
    "def get_statistics(df, column_name):\n",
    "    df_copy = df.copy()\n",
    "    print(f\"Mean {column_name}: \", np.round(df_copy[column_name].mean(), 6))\n",
    "    print(f\"Standard Deviation in {column_name}: \", np.round(df_copy[column_name].std(), 6))\n",
    "    print(f\"Median {column_name}: \", np.round(df_copy[column_name].median(), 6))\n",
    "    print(f\"Max {column_name}: \", df_copy[column_name].max())\n",
    "    print(f\"Min {column_name}: \", df_copy[column_name].min())"
   ]
  },
  {
   "cell_type": "markdown",
   "id": "e4430d68-e040-480a-a001-1c68a0702d90",
   "metadata": {
    "jp-MarkdownHeadingCollapsed": true,
    "tags": []
   },
   "source": [
    "### Scipy Minimize  <a class=\"anchor\" id=\"m1\"></a>"
   ]
  },
  {
   "cell_type": "code",
   "execution_count": 75,
   "id": "cab52be9-ea59-4df5-9b2e-6856e53a7325",
   "metadata": {},
   "outputs": [
    {
     "name": "stdout",
     "output_type": "stream",
     "text": [
      "Mean OPTIMIZED_AIA:  0.214907\n",
      "Standard Deviation in OPTIMIZED_AIA:  0.018199\n",
      "Median OPTIMIZED_AIA:  0.211495\n",
      "Max OPTIMIZED_AIA:  0.2567770919067214\n",
      "Min OPTIMIZED_AIA:  0.1797596450617285\n"
     ]
    }
   ],
   "source": [
    "get_statistics(minimize_csv, 'OPTIMIZED_AIA')"
   ]
  },
  {
   "cell_type": "code",
   "execution_count": 76,
   "id": "82cd1902-540f-4594-acbe-b3a72b221bd9",
   "metadata": {},
   "outputs": [
    {
     "name": "stdout",
     "output_type": "stream",
     "text": [
      "Mean OPTIMIZED_IRIS:  0.281563\n",
      "Standard Deviation in OPTIMIZED_IRIS:  0.102838\n",
      "Median OPTIMIZED_IRIS:  0.297338\n",
      "Max OPTIMIZED_IRIS:  0.4696527777777778\n",
      "Min OPTIMIZED_IRIS:  0.0887012031321445\n"
     ]
    }
   ],
   "source": [
    "get_statistics(minimize_csv, 'OPTIMIZED_IRIS')"
   ]
  },
  {
   "cell_type": "code",
   "execution_count": 77,
   "id": "9fcce545-2dc2-4664-bb1a-2f44ca8a505b",
   "metadata": {},
   "outputs": [
    {
     "name": "stdout",
     "output_type": "stream",
     "text": [
      "Mean OPTIMIZED_BLUR:  22.554918\n",
      "Standard Deviation in OPTIMIZED_BLUR:  2.777722\n",
      "Median OPTIMIZED_BLUR:  21.851852\n",
      "Max OPTIMIZED_BLUR:  32.39605957552203\n",
      "Min OPTIMIZED_BLUR:  17.49657064471881\n"
     ]
    }
   ],
   "source": [
    "get_statistics(minimize_csv, 'OPTIMIZED_BLUR')"
   ]
  },
  {
   "cell_type": "code",
   "execution_count": 78,
   "id": "40dd218e-a70a-4b84-aafc-d3d42c007264",
   "metadata": {},
   "outputs": [
    {
     "name": "stdout",
     "output_type": "stream",
     "text": [
      "Mean RESULT:  19937.174843\n",
      "Standard Deviation in RESULT:  29735.173754\n",
      "Median RESULT:  1195.161128\n",
      "Max RESULT:  71736.27946262652\n",
      "Min RESULT:  761.3941010239749\n"
     ]
    }
   ],
   "source": [
    "get_statistics(minimize_csv, 'RESULT')"
   ]
  },
  {
   "cell_type": "markdown",
   "id": "673e842b-2ca9-4ee7-87bc-290c8c4a2d31",
   "metadata": {
    "jp-MarkdownHeadingCollapsed": true,
    "tags": []
   },
   "source": [
    "### Differential Evolution  <a class=\"anchor\" id=\"d1\"></a>"
   ]
  },
  {
   "cell_type": "code",
   "execution_count": 79,
   "id": "bbdfc265-6025-4252-8c63-54ecc48c1964",
   "metadata": {},
   "outputs": [
    {
     "name": "stdout",
     "output_type": "stream",
     "text": [
      "Mean OPTIMIZED_AIA:  0.213215\n",
      "Standard Deviation in OPTIMIZED_AIA:  0.014362\n",
      "Median OPTIMIZED_AIA:  0.207527\n",
      "Max OPTIMIZED_AIA:  0.2484994251759107\n",
      "Min OPTIMIZED_AIA:  0.190424566415833\n"
     ]
    }
   ],
   "source": [
    "get_statistics(differential_csv, 'OPTIMIZED_AIA')"
   ]
  },
  {
   "cell_type": "code",
   "execution_count": 77,
   "id": "486d0182-bf4a-4d54-b351-bbfb3d148f86",
   "metadata": {},
   "outputs": [
    {
     "name": "stdout",
     "output_type": "stream",
     "text": [
      "Mean OPTIMIZED_IRIS:  0.285943\n",
      "Standard Deviation in OPTIMIZED_IRIS:  0.07879\n",
      "Median OPTIMIZED_IRIS:  0.273237\n",
      "Max OPTIMIZED_IRIS:  0.4933139405458646\n",
      "Min OPTIMIZED_IRIS:  0.1558441750128726\n"
     ]
    }
   ],
   "source": [
    "get_statistics(differential_csv, 'OPTIMIZED_IRIS')"
   ]
  },
  {
   "cell_type": "code",
   "execution_count": 78,
   "id": "dc945b42-ce80-483f-8720-84a8a87faa25",
   "metadata": {},
   "outputs": [
    {
     "name": "stdout",
     "output_type": "stream",
     "text": [
      "Mean OPTIMIZED_BLUR:  23.958051\n",
      "Standard Deviation in OPTIMIZED_BLUR:  2.692976\n",
      "Median OPTIMIZED_BLUR:  23.480692\n",
      "Max OPTIMIZED_BLUR:  29.926340017804915\n",
      "Min OPTIMIZED_BLUR:  20.000243933875165\n"
     ]
    }
   ],
   "source": [
    "get_statistics(differential_csv, 'OPTIMIZED_BLUR')"
   ]
  },
  {
   "cell_type": "code",
   "execution_count": 79,
   "id": "90aea80b-0a5d-4c8c-bf54-f12c70571e64",
   "metadata": {},
   "outputs": [
    {
     "name": "stdout",
     "output_type": "stream",
     "text": [
      "Mean RESULT:  15090.094865\n",
      "Standard Deviation in RESULT:  25666.14713\n",
      "Median RESULT:  926.187589\n",
      "Max RESULT:  66920.1981872239\n",
      "Min RESULT:  759.1132037351919\n"
     ]
    }
   ],
   "source": [
    "get_statistics(differential_csv, 'RESULT')"
   ]
  },
  {
   "cell_type": "markdown",
   "id": "b702b720-109c-4912-8e6a-07257c95741f",
   "metadata": {
    "jp-MarkdownHeadingCollapsed": true,
    "tags": []
   },
   "source": [
    "### Basin Hopping  <a class=\"anchor\" id=\"b1\"></a>"
   ]
  },
  {
   "cell_type": "code",
   "execution_count": 80,
   "id": "ddd4e25e-4d85-43c2-be23-f5703f37d091",
   "metadata": {},
   "outputs": [
    {
     "name": "stdout",
     "output_type": "stream",
     "text": [
      "Mean OPTIMIZED_AIA:  0.255986\n",
      "Standard Deviation in OPTIMIZED_AIA:  0.057933\n",
      "Median OPTIMIZED_AIA:  0.293379\n",
      "Max OPTIMIZED_AIA:  0.3\n",
      "Min OPTIMIZED_AIA:  0.1\n"
     ]
    }
   ],
   "source": [
    "get_statistics(basin_csv, 'OPTIMIZED_AIA')"
   ]
  },
  {
   "cell_type": "code",
   "execution_count": 81,
   "id": "a7ff2300-53f9-4789-ad47-26042b71ab4f",
   "metadata": {},
   "outputs": [
    {
     "name": "stdout",
     "output_type": "stream",
     "text": [
      "Mean OPTIMIZED_IRIS:  0.318812\n",
      "Standard Deviation in OPTIMIZED_IRIS:  0.103966\n",
      "Median OPTIMIZED_IRIS:  0.309099\n",
      "Max OPTIMIZED_IRIS:  0.5\n",
      "Min OPTIMIZED_IRIS:  0.1\n"
     ]
    }
   ],
   "source": [
    "get_statistics(basin_csv, 'OPTIMIZED_IRIS')"
   ]
  },
  {
   "cell_type": "code",
   "execution_count": 82,
   "id": "7f250fc0-08cf-4aaf-bbcc-2f3227f8927c",
   "metadata": {},
   "outputs": [
    {
     "name": "stdout",
     "output_type": "stream",
     "text": [
      "Mean OPTIMIZED_BLUR:  22.753841\n",
      "Standard Deviation in OPTIMIZED_BLUR:  2.465819\n",
      "Median OPTIMIZED_BLUR:  22.759985\n",
      "Max OPTIMIZED_BLUR:  27.63719566254376\n",
      "Min OPTIMIZED_BLUR:  20.0\n"
     ]
    }
   ],
   "source": [
    "get_statistics(basin_csv, 'OPTIMIZED_BLUR')"
   ]
  },
  {
   "cell_type": "code",
   "execution_count": 83,
   "id": "53d0199a-1df4-466a-8109-197c28efddd0",
   "metadata": {},
   "outputs": [
    {
     "name": "stdout",
     "output_type": "stream",
     "text": [
      "Mean RESULT:  15603.023768\n",
      "Standard Deviation in RESULT:  25678.724188\n",
      "Median RESULT:  1010.165112\n",
      "Max RESULT:  68160.18627559583\n",
      "Min RESULT:  763.5993606748762\n"
     ]
    }
   ],
   "source": [
    "get_statistics(basin_csv, 'RESULT')"
   ]
  },
  {
   "cell_type": "markdown",
   "id": "f31fa1e8-505e-44e2-a0f5-e0997373e939",
   "metadata": {
    "jp-MarkdownHeadingCollapsed": true,
    "tags": []
   },
   "source": [
    "## Initial Method Comparison  <a class=\"anchor\" id=\"compare1\"></a>"
   ]
  },
  {
   "cell_type": "code",
   "execution_count": 80,
   "id": "dcb5cfb7-a438-4055-bb47-fa3ed3ad3d14",
   "metadata": {},
   "outputs": [
    {
     "name": "stdout",
     "output_type": "stream",
     "text": [
      "Minimize Method\n",
      "Mean RESULT:  19937.174843\n",
      "Standard Deviation in RESULT:  29735.173754\n",
      "Median RESULT:  1195.161128\n",
      "Max RESULT:  71736.27946262652\n",
      "Min RESULT:  761.3941010239749\n",
      "\n",
      "\n",
      "Evolve Method\n",
      "Mean RESULT:  15090.094865\n",
      "Standard Deviation in RESULT:  25666.14713\n",
      "Median RESULT:  926.187589\n",
      "Max RESULT:  66920.1981872239\n",
      "Min RESULT:  759.1132037351919\n",
      "\n",
      "\n",
      "Basin Hopping Method\n",
      "Mean RESULT:  15603.023768\n",
      "Standard Deviation in RESULT:  25678.724188\n",
      "Median RESULT:  1010.165112\n",
      "Max RESULT:  68160.18627559583\n",
      "Min RESULT:  763.5993606748762\n"
     ]
    }
   ],
   "source": [
    "print(\"Minimize Method\")\n",
    "get_statistics(minimize_csv, 'RESULT')\n",
    "print('\\n')\n",
    "print(\"Evolve Method\")\n",
    "get_statistics(differential_csv, 'RESULT')\n",
    "print('\\n')\n",
    "print(\"Basin Hopping Method\")\n",
    "get_statistics(basin_csv, 'RESULT')"
   ]
  },
  {
   "cell_type": "markdown",
   "id": "e56c331e-6fed-4baf-b529-967987811c54",
   "metadata": {
    "jp-MarkdownHeadingCollapsed": true,
    "tags": []
   },
   "source": [
    "## Conclusions  <a class=\"anchor\" id=\"conclude1\"></a>\n",
    "\n",
    "- differential evolution has lowest average result + standard deviation\n",
    "- however, also has highest runtime\n",
    "- basin hopping has slightly lower runtime and similar results\n",
    "- by increasing data, can observe effects of runtime + more"
   ]
  },
  {
   "cell_type": "markdown",
   "id": "f3bb74e6-9925-4d86-a847-84b5afa8f2b3",
   "metadata": {
    "jp-MarkdownHeadingCollapsed": true,
    "tags": []
   },
   "source": [
    "## Mass Minimize Results  <a class=\"anchor\" id=\"m2\"></a>"
   ]
  },
  {
   "cell_type": "code",
   "execution_count": 20,
   "id": "013a7282-a7f0-41bf-8e24-697ba65f680d",
   "metadata": {},
   "outputs": [
    {
     "name": "stdout",
     "output_type": "stream",
     "text": [
      "Mean OPTIMIZED_AIA:  0.219832\n",
      "Standard Deviation in OPTIMIZED_AIA:  0.008833\n",
      "Median OPTIMIZED_AIA:  0.217859\n",
      "Max OPTIMIZED_AIA:  0.2370029550540124\n",
      "Min OPTIMIZED_AIA:  0.2053555777777777\n"
     ]
    }
   ],
   "source": [
    "get_statistics(mass_min_csv, 'OPTIMIZED_AIA')"
   ]
  },
  {
   "cell_type": "code",
   "execution_count": 21,
   "id": "0976e88b-20fb-4592-99d6-0b08457c0f27",
   "metadata": {},
   "outputs": [
    {
     "name": "stdout",
     "output_type": "stream",
     "text": [
      "Mean OPTIMIZED_IRIS:  0.281803\n",
      "Standard Deviation in OPTIMIZED_IRIS:  0.01168\n",
      "Median OPTIMIZED_IRIS:  0.281563\n",
      "Max OPTIMIZED_IRIS:  0.2960362832609954\n",
      "Min OPTIMIZED_IRIS:  0.248045922974537\n"
     ]
    }
   ],
   "source": [
    "get_statistics(mass_min_csv, 'OPTIMIZED_IRIS')"
   ]
  },
  {
   "cell_type": "code",
   "execution_count": 22,
   "id": "c2925889-af07-4ec1-b31b-4109899980f3",
   "metadata": {},
   "outputs": [
    {
     "name": "stdout",
     "output_type": "stream",
     "text": [
      "Mean OPTIMIZED_BLUR:  22.744145\n",
      "Standard Deviation in OPTIMIZED_BLUR:  0.777263\n",
      "Median OPTIMIZED_BLUR:  22.554918\n",
      "Max OPTIMIZED_BLUR:  24.4344945\n",
      "Min OPTIMIZED_BLUR:  21.46110889791666\n"
     ]
    }
   ],
   "source": [
    "get_statistics(mass_min_csv, 'OPTIMIZED_BLUR')"
   ]
  },
  {
   "cell_type": "code",
   "execution_count": 23,
   "id": "ed7b5eff-8c65-403b-bd24-228577b4e1be",
   "metadata": {},
   "outputs": [
    {
     "name": "stdout",
     "output_type": "stream",
     "text": [
      "Mean RESULT:  22954.710522\n",
      "Standard Deviation in RESULT:  30657.214185\n",
      "Median RESULT:  1756.583935\n",
      "Max RESULT:  68768.85318879073\n",
      "Min RESULT:  820.8427938170672\n"
     ]
    }
   ],
   "source": [
    "get_statistics(mass_min_csv, 'RESULT')"
   ]
  },
  {
   "cell_type": "code",
   "execution_count": 24,
   "id": "927fa0d0-59e6-4365-81e4-b1345bb6ce57",
   "metadata": {},
   "outputs": [
    {
     "name": "stdout",
     "output_type": "stream",
     "text": [
      "Mean RUNTIME:  31.97472\n",
      "Standard Deviation in RUNTIME:  5.019473\n",
      "Median RUNTIME:  32.550545\n",
      "Max RUNTIME:  39.56492686271668\n",
      "Min RUNTIME:  22.213770151138306\n"
     ]
    }
   ],
   "source": [
    "get_statistics(mass_min_csv, 'RUNTIME')"
   ]
  },
  {
   "cell_type": "markdown",
   "id": "772ed07a-8714-414a-b24d-57728553f363",
   "metadata": {
    "jp-MarkdownHeadingCollapsed": true,
    "tags": []
   },
   "source": [
    "## Mass Evolve Results  <a class=\"anchor\" id=\"d2\"></a>"
   ]
  },
  {
   "cell_type": "code",
   "execution_count": 33,
   "id": "e2219919-fd21-4528-8bf6-a331c43215a9",
   "metadata": {},
   "outputs": [
    {
     "name": "stdout",
     "output_type": "stream",
     "text": [
      "Mean OPTIMIZED_AIA:  0.214265\n",
      "Standard Deviation in OPTIMIZED_AIA:  0.016473\n",
      "Median OPTIMIZED_AIA:  0.209904\n",
      "Max OPTIMIZED_AIA:  0.2433022546416886\n",
      "Min OPTIMIZED_AIA:  0.1906845572655224\n"
     ]
    }
   ],
   "source": [
    "get_statistics(mass_evolve_csv, 'OPTIMIZED_AIA')"
   ]
  },
  {
   "cell_type": "code",
   "execution_count": 34,
   "id": "8680705b-d6a4-4aa7-b20b-b09553670187",
   "metadata": {},
   "outputs": [
    {
     "name": "stdout",
     "output_type": "stream",
     "text": [
      "Mean OPTIMIZED_IRIS:  0.241511\n",
      "Standard Deviation in OPTIMIZED_IRIS:  0.080425\n",
      "Median OPTIMIZED_IRIS:  0.238677\n",
      "Max OPTIMIZED_IRIS:  0.476436167707791\n",
      "Min OPTIMIZED_IRIS:  0.1277123583126644\n"
     ]
    }
   ],
   "source": [
    "get_statistics(mass_evolve_csv, 'OPTIMIZED_IRIS')"
   ]
  },
  {
   "cell_type": "code",
   "execution_count": 35,
   "id": "a8047f95-499f-44a4-bcbe-6288d7700725",
   "metadata": {},
   "outputs": [
    {
     "name": "stdout",
     "output_type": "stream",
     "text": [
      "Mean OPTIMIZED_BLUR:  25.420002\n",
      "Standard Deviation in OPTIMIZED_BLUR:  2.714367\n",
      "Median OPTIMIZED_BLUR:  25.853635\n",
      "Max OPTIMIZED_BLUR:  29.628798483049984\n",
      "Min OPTIMIZED_BLUR:  21.109765014919176\n"
     ]
    }
   ],
   "source": [
    "get_statistics(mass_evolve_csv, 'OPTIMIZED_BLUR')"
   ]
  },
  {
   "cell_type": "code",
   "execution_count": 36,
   "id": "2031d1f5-1bd0-42e2-aa05-03e4df257bd3",
   "metadata": {},
   "outputs": [
    {
     "name": "stdout",
     "output_type": "stream",
     "text": [
      "Mean RESULT:  17977.499662\n",
      "Standard Deviation in RESULT:  28170.388049\n",
      "Median RESULT:  1316.046339\n",
      "Max RESULT:  67301.50300840446\n",
      "Min RESULT:  124.73625194893684\n"
     ]
    }
   ],
   "source": [
    "get_statistics(mass_evolve_csv, 'RESULT')"
   ]
  },
  {
   "cell_type": "code",
   "execution_count": 37,
   "id": "d60600fc-2945-4364-a590-7ad4f531030f",
   "metadata": {},
   "outputs": [
    {
     "name": "stdout",
     "output_type": "stream",
     "text": [
      "Mean RUNTIME:  1105.618416\n",
      "Standard Deviation in RUNTIME:  782.050396\n",
      "Median RUNTIME:  1131.397676\n",
      "Max RUNTIME:  2434.523035764694\n",
      "Min RUNTIME:  83.15725898742676\n"
     ]
    }
   ],
   "source": [
    "get_statistics(mass_evolve_csv, 'RUNTIME')"
   ]
  },
  {
   "cell_type": "markdown",
   "id": "3f28cdbe-4a9e-4f66-98f8-d19da0394456",
   "metadata": {
    "jp-MarkdownHeadingCollapsed": true,
    "tags": []
   },
   "source": [
    "## Mass Basin Results  <a class=\"anchor\" id=\"b2\"></a>"
   ]
  },
  {
   "cell_type": "code",
   "execution_count": 10,
   "id": "1e12712d-d832-441e-b78a-0b8494489b38",
   "metadata": {},
   "outputs": [
    {
     "name": "stdout",
     "output_type": "stream",
     "text": [
      "Mean OPTIMIZED_AIA:  0.21276\n",
      "Standard Deviation in OPTIMIZED_AIA:  0.087828\n",
      "Median OPTIMIZED_AIA:  0.243861\n",
      "Max OPTIMIZED_AIA:  0.3\n",
      "Min OPTIMIZED_AIA:  0.1\n"
     ]
    }
   ],
   "source": [
    "get_statistics(mass_basin_csv, 'OPTIMIZED_AIA')"
   ]
  },
  {
   "cell_type": "code",
   "execution_count": 12,
   "id": "920cb86b-8779-44b4-850e-bef8ff18e604",
   "metadata": {},
   "outputs": [
    {
     "name": "stdout",
     "output_type": "stream",
     "text": [
      "Mean OPTIMIZED_IRIS:  0.224188\n",
      "Standard Deviation in OPTIMIZED_IRIS:  0.122337\n",
      "Median OPTIMIZED_IRIS:  0.195766\n",
      "Max OPTIMIZED_IRIS:  0.4559548742528978\n",
      "Min OPTIMIZED_IRIS:  0.1\n"
     ]
    }
   ],
   "source": [
    "get_statistics(mass_basin_csv, 'OPTIMIZED_IRIS')"
   ]
  },
  {
   "cell_type": "code",
   "execution_count": 13,
   "id": "b00113df-3bc7-42a0-9990-b4d10889d345",
   "metadata": {},
   "outputs": [
    {
     "name": "stdout",
     "output_type": "stream",
     "text": [
      "Mean OPTIMIZED_BLUR:  23.01053\n",
      "Standard Deviation in OPTIMIZED_BLUR:  0.631446\n",
      "Median OPTIMIZED_BLUR:  22.897053\n",
      "Max OPTIMIZED_BLUR:  24.51297952331294\n",
      "Min OPTIMIZED_BLUR:  21.97742526917077\n"
     ]
    }
   ],
   "source": [
    "get_statistics(mass_basin_csv, 'OPTIMIZED_BLUR')"
   ]
  },
  {
   "cell_type": "code",
   "execution_count": 14,
   "id": "840108ce-d179-49a3-9423-edf37417c7f4",
   "metadata": {},
   "outputs": [
    {
     "name": "stdout",
     "output_type": "stream",
     "text": [
      "Mean RESULT:  18966.795342\n",
      "Standard Deviation in RESULT:  28703.666486\n",
      "Median RESULT:  1399.673941\n",
      "Max RESULT:  67444.57886331464\n",
      "Min RESULT:  498.31043492787495\n"
     ]
    }
   ],
   "source": [
    "get_statistics(mass_basin_csv, 'RESULT')"
   ]
  },
  {
   "cell_type": "code",
   "execution_count": 19,
   "id": "f8469175-8cd4-4e85-95d4-93454190e6e5",
   "metadata": {},
   "outputs": [
    {
     "name": "stdout",
     "output_type": "stream",
     "text": [
      "Mean RUNTIME:  441.655149\n",
      "Standard Deviation in RUNTIME:  56.754873\n",
      "Median RUNTIME:  449.365949\n",
      "Max RUNTIME:  502.5054461956024\n",
      "Min RUNTIME:  274.91920495033264\n"
     ]
    }
   ],
   "source": [
    "get_statistics(mass_basin_csv, 'RUNTIME')"
   ]
  },
  {
   "cell_type": "markdown",
   "id": "8120e21d-c914-48b3-9afc-a334337b8f16",
   "metadata": {
    "tags": []
   },
   "source": [
    "## Final Conclusions on Large amounts of Data  <a class=\"anchor\" id=\"conclude2\"></a>"
   ]
  },
  {
   "cell_type": "code",
   "execution_count": 43,
   "id": "3d253cbc-f051-4387-b754-4b7ad95fd77d",
   "metadata": {},
   "outputs": [
    {
     "name": "stdout",
     "output_type": "stream",
     "text": [
      "Minimize Method\n",
      "Mean RESULT:  22954.710522\n",
      "Standard Deviation in RESULT:  30657.214185\n",
      "Median RESULT:  1756.583935\n",
      "Max RESULT:  68768.85318879073\n",
      "Min RESULT:  820.8427938170672\n",
      "\n",
      "\n",
      "Evolution Method\n",
      "Mean RESULT:  17977.499662\n",
      "Standard Deviation in RESULT:  28170.388049\n",
      "Median RESULT:  1316.046339\n",
      "Max RESULT:  67301.50300840446\n",
      "Min RESULT:  124.73625194893684\n",
      "\n",
      "\n",
      "Basin Hopping Method\n",
      "Mean RESULT:  18966.795342\n",
      "Standard Deviation in RESULT:  28703.666486\n",
      "Median RESULT:  1399.673941\n",
      "Max RESULT:  67444.57886331464\n",
      "Min RESULT:  498.31043492787495\n"
     ]
    }
   ],
   "source": [
    "print(\"Minimize Method\")\n",
    "get_statistics(mass_min_csv, 'RESULT')\n",
    "print('\\n')\n",
    "\n",
    "print(\"Evolution Method\")\n",
    "get_statistics(mass_evolve_csv, 'RESULT')\n",
    "print('\\n')\n",
    "\n",
    "print(\"Basin Hopping Method\")\n",
    "get_statistics(mass_basin_csv, 'RESULT')"
   ]
  },
  {
   "cell_type": "code",
   "execution_count": 45,
   "id": "dbcc94d0-2039-4da8-ac29-f630ae5fc22d",
   "metadata": {},
   "outputs": [
    {
     "name": "stdout",
     "output_type": "stream",
     "text": [
      "Minimize Method\n",
      "Mean RUNTIME:  31.97472\n",
      "Standard Deviation in RUNTIME:  5.019473\n",
      "Median RUNTIME:  32.550545\n",
      "Max RUNTIME:  39.56492686271668\n",
      "Min RUNTIME:  22.213770151138306\n",
      "\n",
      "\n",
      "Evolution Method\n",
      "Mean RUNTIME:  1105.618416\n",
      "Standard Deviation in RUNTIME:  782.050396\n",
      "Median RUNTIME:  1131.397676\n",
      "Max RUNTIME:  2434.523035764694\n",
      "Min RUNTIME:  83.15725898742676\n",
      "\n",
      "\n",
      "Basin Hopping Method\n",
      "Mean RUNTIME:  441.655149\n",
      "Standard Deviation in RUNTIME:  56.754873\n",
      "Median RUNTIME:  449.365949\n",
      "Max RUNTIME:  502.5054461956024\n",
      "Min RUNTIME:  274.91920495033264\n"
     ]
    }
   ],
   "source": [
    "print(\"Minimize Method\")\n",
    "get_statistics(mass_min_csv, 'RUNTIME')\n",
    "print('\\n')\n",
    "print(\"Evolution Method\")\n",
    "get_statistics(mass_evolve_csv, 'RUNTIME')\n",
    "print('\\n')\n",
    "print(\"Basin Hopping Method\")\n",
    "get_statistics(mass_basin_csv, 'RUNTIME')"
   ]
  },
  {
   "cell_type": "code",
   "execution_count": null,
   "id": "e248b337-d133-40a7-a124-8447ad3db840",
   "metadata": {},
   "outputs": [
    {
     "name": "stdout",
     "output_type": "stream",
     "text": [
      "Conclusion: Evolution method has lowest mean and median result with middle consistency and lowest minimum result\n",
      "Additionally, Evolution Method has highest mean and median runtime but low consistency\n"
     ]
    }
   ],
   "source": [
    "print(\"Conclusion: Evolution method has lowest mean and median result with middle consistency and lowest minimum result\")\n",
    "print(\"Additionally, Evolution Method has highest mean and median runtime but low consistency\")"
   ]
  },
  {
   "cell_type": "markdown",
   "id": "58e9a433-6dff-4d20-9fcf-52abfad040ff",
   "metadata": {
    "tags": []
   },
   "source": [
    "### Error Analysis - Problematic Data  <a class=\"anchor\" id=\"error\"></a>"
   ]
  },
  {
   "cell_type": "code",
   "execution_count": 48,
   "id": "c2a6cb16-4813-42dc-bedd-fb26923cf29b",
   "metadata": {},
   "outputs": [],
   "source": [
    "error_min_csv = pd.read_csv(mass_minimize_filename)\n",
    "error_evolve_csv = pd.read_csv(mass_evolve_filename)\n",
    "error_basin_csv = pd.read_csv(mass_basin_filename)"
   ]
  },
  {
   "cell_type": "code",
   "execution_count": 67,
   "id": "8bf55b73-faee-4c70-a728-d5faff711050",
   "metadata": {},
   "outputs": [],
   "source": [
    "minl = error_min_csv[error_min_csv['RESULT'] == 100000].OBSID"
   ]
  },
  {
   "cell_type": "code",
   "execution_count": 68,
   "id": "300db1d1-6cff-45cd-ae96-0e94afcd4b10",
   "metadata": {},
   "outputs": [],
   "source": [
    "evol = error_evolve_csv[error_evolve_csv['RESULT'] == 100000].OBSID"
   ]
  },
  {
   "cell_type": "code",
   "execution_count": 69,
   "id": "038d3812-6b59-4d90-b57e-8701423c2d57",
   "metadata": {},
   "outputs": [],
   "source": [
    "basinl = error_basin_csv[error_basin_csv['RESULT'] == 100000].OBSID"
   ]
  },
  {
   "cell_type": "code",
   "execution_count": 70,
   "id": "dde42745-64f2-4e4e-a3c9-0e8146ef740c",
   "metadata": {},
   "outputs": [],
   "source": [
    "obl = set().union(*[minl, evol, basinl])"
   ]
  },
  {
   "cell_type": "code",
   "execution_count": 73,
   "id": "a9e4570f-2228-4158-b272-24a9c76877c5",
   "metadata": {},
   "outputs": [
    {
     "data": {
      "text/plain": [
       "{'20220904_031019_3620258076',\n",
       " '20220904_042426_3620258076',\n",
       " '20220904_060426_3620258076',\n",
       " '20220909_235026_3620108076',\n",
       " '20220910_004926_3620108076',\n",
       " '20220910_014826_3620108076',\n",
       " '20220916_224528_3620108076',\n",
       " '20220917_001728_3620108076',\n",
       " '20220917_011728_3620108076',\n",
       " '20220923_232326_3620108076',\n",
       " '20220924_002201_3620108076',\n",
       " '20220924_012036_3620108076',\n",
       " '20220924_120813_3600108078',\n",
       " '20220924_131932_3600110078',\n",
       " '20220924_151811_3600112078',\n",
       " '20221001_003126_3620108076',\n",
       " '20221001_013026_3620108076',\n",
       " '20221001_022926_3620108076',\n",
       " '20221006_200315_3620010078',\n",
       " '20221006_220405_3620010078',\n",
       " '20221007_000455_3620010078',\n",
       " '20221007_020545_3620010078',\n",
       " '20221008_000720_3620108076',\n",
       " '20221008_010555_3620108076',\n",
       " '20221008_020430_3620108076',\n",
       " '20221015_001926_3620108076',\n",
       " '20221015_011801_3620108076',\n",
       " '20221015_021636_3620108076',\n",
       " '20221016_031633_3620509175',\n",
       " '20221016_051533_3600609177',\n",
       " '20221018_122703_3600606077',\n",
       " '20221018_134113_3600606077',\n",
       " '20221025_023611_3620607175',\n",
       " '20221025_041441_3620507177',\n",
       " '20221026_002630_3600609177',\n",
       " '20221026_041953_3600609177',\n",
       " '20221026_102916_3600609177',\n",
       " '20221026_134805_3600609177',\n",
       " '20221028_210936_3620108076',\n",
       " '20221028_223936_3620108076',\n",
       " '20221028_233823_3620108076',\n",
       " '20221029_020441_3600607176',\n",
       " '20221029_041915_3600607176',\n",
       " '20221029_211205_3620507177',\n",
       " '20221111_223851_3620258076'}"
      ]
     },
     "execution_count": 73,
     "metadata": {},
     "output_type": "execute_result"
    }
   ],
   "source": [
    "obl"
   ]
  },
  {
   "cell_type": "markdown",
   "id": "576d4dd7-0262-4351-add9-ef25ba898a03",
   "metadata": {},
   "source": [
    "### Preparing Data"
   ]
  },
  {
   "cell_type": "code",
   "execution_count": 101,
   "id": "109b59c4-b902-4845-8877-886fd9f538fd",
   "metadata": {},
   "outputs": [],
   "source": [
    "t1 = error_min_csv[error_min_csv['RESULT'] <= 50000].OBSID"
   ]
  },
  {
   "cell_type": "code",
   "execution_count": 102,
   "id": "b263eff2-7c8e-4d95-81a0-bf0e57de67cc",
   "metadata": {},
   "outputs": [],
   "source": [
    "t2 = error_evolve_csv[error_evolve_csv['RESULT'] == 50000].OBSID"
   ]
  },
  {
   "cell_type": "code",
   "execution_count": 103,
   "id": "8d5761b6-1c41-4e92-b1ba-f1302ca49f1e",
   "metadata": {},
   "outputs": [],
   "source": [
    "t3 = error_basin_csv[error_basin_csv['RESULT'] == 50000].OBSID"
   ]
  },
  {
   "cell_type": "code",
   "execution_count": 104,
   "id": "c9ca3b5b-0877-4340-b7ee-529a50715e35",
   "metadata": {},
   "outputs": [],
   "source": [
    "test = set().union(*[t1, t2, t3])"
   ]
  },
  {
   "cell_type": "code",
   "execution_count": 105,
   "id": "a52c019e-bc78-4c4f-8602-ced7fe13019b",
   "metadata": {},
   "outputs": [
    {
     "data": {
      "text/plain": [
       "{'20220924_021937_3620110077',\n",
       " '20221006_135137_3620108077',\n",
       " '20221007_050103_3620108077',\n",
       " '20221007_135202_3620108077',\n",
       " '20221007_211016_3620108077',\n",
       " '20221008_030317_3620108077',\n",
       " '20221025_195518_3600609177',\n",
       " '20221026_071530_3600609177',\n",
       " '20221026_170654_3600609177',\n",
       " '20221029_065819_3600609177'}"
      ]
     },
     "execution_count": 105,
     "metadata": {},
     "output_type": "execute_result"
    }
   ],
   "source": [
    "test"
   ]
  }
 ],
 "metadata": {
  "kernelspec": {
   "display_name": "Python 3 (ipykernel)",
   "language": "python",
   "name": "python3"
  },
  "language_info": {
   "codemirror_mode": {
    "name": "ipython",
    "version": 3
   },
   "file_extension": ".py",
   "mimetype": "text/x-python",
   "name": "python",
   "nbconvert_exporter": "python",
   "pygments_lexer": "ipython3",
   "version": "3.10.5"
  }
 },
 "nbformat": 4,
 "nbformat_minor": 5
}
