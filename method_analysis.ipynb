{
 "cells": [
  {
   "cell_type": "markdown",
   "id": "9974041e-d5e9-4879-9cb8-f6ffab8dca92",
   "metadata": {},
   "source": [
    "## Inputs"
   ]
  },
  {
   "cell_type": "code",
   "execution_count": 10,
   "id": "de15adbc-d0dc-48aa-b5f6-9944041189a8",
   "metadata": {},
   "outputs": [],
   "source": [
    "import numpy as np\n",
    "import os\n",
    "import pandas as pd\n",
    "import scipy\n",
    "import matplotlib.pyplot as plt\n",
    "import statistics"
   ]
  },
  {
   "cell_type": "code",
   "execution_count": 5,
   "id": "06339c46-74ce-42a2-9094-566ff22b674f",
   "metadata": {},
   "outputs": [],
   "source": [
    "minimize_filename = \"optimized_results.csv\"\n",
    "differential_filename = \"evolve_results.csv\"\n",
    "basin_filename = \"basin_results.csv\""
   ]
  },
  {
   "cell_type": "code",
   "execution_count": 34,
   "id": "57712533-bc7a-4954-80bf-a867968dbc83",
   "metadata": {},
   "outputs": [],
   "source": [
    "minimize_csv = pd.read_csv(minimize_filename)\n",
    "differential_csv = pd.read_csv(differential_filename)\n",
    "basin_csv = pd.read_csv(basin_filename)"
   ]
  },
  {
   "cell_type": "markdown",
   "id": "15de4b95-b653-42bc-92fc-e11096acce36",
   "metadata": {},
   "source": [
    "## Cleaning"
   ]
  },
  {
   "cell_type": "markdown",
   "id": "fbe28af5-87a2-465c-971f-99a94ee8aaaf",
   "metadata": {
    "jp-MarkdownHeadingCollapsed": true,
    "tags": []
   },
   "source": [
    "### Removing failed attempts (RESULT = 100000)"
   ]
  },
  {
   "cell_type": "code",
   "execution_count": 64,
   "id": "b222fb1a-35a9-4243-ab78-878f6ce8f77f",
   "metadata": {},
   "outputs": [],
   "source": [
    "test = minimize_csv.copy()"
   ]
  },
  {
   "cell_type": "code",
   "execution_count": 65,
   "id": "abacbde7-ae8e-4d19-80b8-af804313e71d",
   "metadata": {},
   "outputs": [
    {
     "data": {
      "text/html": [
       "<div>\n",
       "<style scoped>\n",
       "    .dataframe tbody tr th:only-of-type {\n",
       "        vertical-align: middle;\n",
       "    }\n",
       "\n",
       "    .dataframe tbody tr th {\n",
       "        vertical-align: top;\n",
       "    }\n",
       "\n",
       "    .dataframe thead th {\n",
       "        text-align: right;\n",
       "    }\n",
       "</style>\n",
       "<table border=\"1\" class=\"dataframe\">\n",
       "  <thead>\n",
       "    <tr style=\"text-align: right;\">\n",
       "      <th></th>\n",
       "      <th>Unnamed: 0</th>\n",
       "      <th>OBSID</th>\n",
       "      <th>AIA_N_GUESS</th>\n",
       "      <th>IRIS_N_GUESS</th>\n",
       "      <th>BLUR_GUESS</th>\n",
       "      <th>OPTIMIZED_AIA</th>\n",
       "      <th>OPTIMIZED_IRIS</th>\n",
       "      <th>OPTIMIZED_BLUR</th>\n",
       "      <th>RESULT</th>\n",
       "    </tr>\n",
       "  </thead>\n",
       "  <tbody>\n",
       "    <tr>\n",
       "      <th>0</th>\n",
       "      <td>0</td>\n",
       "      <td>20221008_030317_3620108077</td>\n",
       "      <td>0.19</td>\n",
       "      <td>0.10</td>\n",
       "      <td>20</td>\n",
       "      <td>0.190000</td>\n",
       "      <td>0.102500</td>\n",
       "      <td>20.000000</td>\n",
       "      <td>1359.916272</td>\n",
       "    </tr>\n",
       "    <tr>\n",
       "      <th>1</th>\n",
       "      <td>1</td>\n",
       "      <td>20221008_030317_3620108077</td>\n",
       "      <td>0.19</td>\n",
       "      <td>0.10</td>\n",
       "      <td>25</td>\n",
       "      <td>0.190000</td>\n",
       "      <td>0.104375</td>\n",
       "      <td>25.000000</td>\n",
       "      <td>1359.916272</td>\n",
       "    </tr>\n",
       "    <tr>\n",
       "      <th>2</th>\n",
       "      <td>2</td>\n",
       "      <td>20221008_030317_3620108077</td>\n",
       "      <td>0.19</td>\n",
       "      <td>0.15</td>\n",
       "      <td>20</td>\n",
       "      <td>0.192375</td>\n",
       "      <td>0.148125</td>\n",
       "      <td>20.250000</td>\n",
       "      <td>1195.161128</td>\n",
       "    </tr>\n",
       "    <tr>\n",
       "      <th>3</th>\n",
       "      <td>3</td>\n",
       "      <td>20221008_030317_3620108077</td>\n",
       "      <td>0.19</td>\n",
       "      <td>0.15</td>\n",
       "      <td>25</td>\n",
       "      <td>0.194137</td>\n",
       "      <td>0.145549</td>\n",
       "      <td>24.862291</td>\n",
       "      <td>1195.161128</td>\n",
       "    </tr>\n",
       "    <tr>\n",
       "      <th>4</th>\n",
       "      <td>4</td>\n",
       "      <td>20221008_030317_3620108077</td>\n",
       "      <td>0.19</td>\n",
       "      <td>0.20</td>\n",
       "      <td>20</td>\n",
       "      <td>0.194738</td>\n",
       "      <td>0.200013</td>\n",
       "      <td>19.993490</td>\n",
       "      <td>1210.054771</td>\n",
       "    </tr>\n",
       "    <tr>\n",
       "      <th>...</th>\n",
       "      <td>...</td>\n",
       "      <td>...</td>\n",
       "      <td>...</td>\n",
       "      <td>...</td>\n",
       "      <td>...</td>\n",
       "      <td>...</td>\n",
       "      <td>...</td>\n",
       "      <td>...</td>\n",
       "      <td>...</td>\n",
       "    </tr>\n",
       "    <tr>\n",
       "      <th>283</th>\n",
       "      <td>283</td>\n",
       "      <td>20220730_125009_3620112077</td>\n",
       "      <td>0.23</td>\n",
       "      <td>0.35</td>\n",
       "      <td>25</td>\n",
       "      <td>0.218500</td>\n",
       "      <td>0.361667</td>\n",
       "      <td>25.833333</td>\n",
       "      <td>68496.925343</td>\n",
       "    </tr>\n",
       "    <tr>\n",
       "      <th>284</th>\n",
       "      <td>284</td>\n",
       "      <td>20220730_125009_3620112077</td>\n",
       "      <td>0.23</td>\n",
       "      <td>0.40</td>\n",
       "      <td>20</td>\n",
       "      <td>0.224197</td>\n",
       "      <td>0.420278</td>\n",
       "      <td>20.125000</td>\n",
       "      <td>66851.860670</td>\n",
       "    </tr>\n",
       "    <tr>\n",
       "      <th>285</th>\n",
       "      <td>285</td>\n",
       "      <td>20220730_125009_3620112077</td>\n",
       "      <td>0.23</td>\n",
       "      <td>0.40</td>\n",
       "      <td>25</td>\n",
       "      <td>0.230000</td>\n",
       "      <td>0.420000</td>\n",
       "      <td>25.000000</td>\n",
       "      <td>66996.953552</td>\n",
       "    </tr>\n",
       "    <tr>\n",
       "      <th>286</th>\n",
       "      <td>286</td>\n",
       "      <td>20220730_125009_3620112077</td>\n",
       "      <td>0.23</td>\n",
       "      <td>0.45</td>\n",
       "      <td>20</td>\n",
       "      <td>0.219352</td>\n",
       "      <td>0.460833</td>\n",
       "      <td>20.185185</td>\n",
       "      <td>66682.547705</td>\n",
       "    </tr>\n",
       "    <tr>\n",
       "      <th>287</th>\n",
       "      <td>287</td>\n",
       "      <td>20220730_125009_3620112077</td>\n",
       "      <td>0.23</td>\n",
       "      <td>0.45</td>\n",
       "      <td>25</td>\n",
       "      <td>0.221375</td>\n",
       "      <td>0.466875</td>\n",
       "      <td>24.687500</td>\n",
       "      <td>66777.021729</td>\n",
       "    </tr>\n",
       "  </tbody>\n",
       "</table>\n",
       "<p>288 rows × 9 columns</p>\n",
       "</div>"
      ],
      "text/plain": [
       "     Unnamed: 0                       OBSID  AIA_N_GUESS  IRIS_N_GUESS  \\\n",
       "0             0  20221008_030317_3620108077         0.19          0.10   \n",
       "1             1  20221008_030317_3620108077         0.19          0.10   \n",
       "2             2  20221008_030317_3620108077         0.19          0.15   \n",
       "3             3  20221008_030317_3620108077         0.19          0.15   \n",
       "4             4  20221008_030317_3620108077         0.19          0.20   \n",
       "..          ...                         ...          ...           ...   \n",
       "283         283  20220730_125009_3620112077         0.23          0.35   \n",
       "284         284  20220730_125009_3620112077         0.23          0.40   \n",
       "285         285  20220730_125009_3620112077         0.23          0.40   \n",
       "286         286  20220730_125009_3620112077         0.23          0.45   \n",
       "287         287  20220730_125009_3620112077         0.23          0.45   \n",
       "\n",
       "     BLUR_GUESS  OPTIMIZED_AIA  OPTIMIZED_IRIS  OPTIMIZED_BLUR        RESULT  \n",
       "0            20       0.190000        0.102500       20.000000   1359.916272  \n",
       "1            25       0.190000        0.104375       25.000000   1359.916272  \n",
       "2            20       0.192375        0.148125       20.250000   1195.161128  \n",
       "3            25       0.194137        0.145549       24.862291   1195.161128  \n",
       "4            20       0.194738        0.200013       19.993490   1210.054771  \n",
       "..          ...            ...             ...             ...           ...  \n",
       "283          25       0.218500        0.361667       25.833333  68496.925343  \n",
       "284          20       0.224197        0.420278       20.125000  66851.860670  \n",
       "285          25       0.230000        0.420000       25.000000  66996.953552  \n",
       "286          20       0.219352        0.460833       20.185185  66682.547705  \n",
       "287          25       0.221375        0.466875       24.687500  66777.021729  \n",
       "\n",
       "[288 rows x 9 columns]"
      ]
     },
     "execution_count": 65,
     "metadata": {},
     "output_type": "execute_result"
    }
   ],
   "source": [
    "test"
   ]
  },
  {
   "cell_type": "code",
   "execution_count": 67,
   "id": "32150854-67b2-49b0-9aab-4d7e036a9966",
   "metadata": {},
   "outputs": [],
   "source": [
    "test.drop(test[test['RESULT'] == 100000].index, inplace=True)"
   ]
  },
  {
   "cell_type": "code",
   "execution_count": 68,
   "id": "0590598f-3fae-47fa-9bc1-61c43e9c8463",
   "metadata": {},
   "outputs": [
    {
     "data": {
      "text/html": [
       "<div>\n",
       "<style scoped>\n",
       "    .dataframe tbody tr th:only-of-type {\n",
       "        vertical-align: middle;\n",
       "    }\n",
       "\n",
       "    .dataframe tbody tr th {\n",
       "        vertical-align: top;\n",
       "    }\n",
       "\n",
       "    .dataframe thead th {\n",
       "        text-align: right;\n",
       "    }\n",
       "</style>\n",
       "<table border=\"1\" class=\"dataframe\">\n",
       "  <thead>\n",
       "    <tr style=\"text-align: right;\">\n",
       "      <th></th>\n",
       "      <th>Unnamed: 0</th>\n",
       "      <th>OBSID</th>\n",
       "      <th>AIA_N_GUESS</th>\n",
       "      <th>IRIS_N_GUESS</th>\n",
       "      <th>BLUR_GUESS</th>\n",
       "      <th>OPTIMIZED_AIA</th>\n",
       "      <th>OPTIMIZED_IRIS</th>\n",
       "      <th>OPTIMIZED_BLUR</th>\n",
       "      <th>RESULT</th>\n",
       "    </tr>\n",
       "  </thead>\n",
       "  <tbody>\n",
       "    <tr>\n",
       "      <th>0</th>\n",
       "      <td>0</td>\n",
       "      <td>20221008_030317_3620108077</td>\n",
       "      <td>0.19</td>\n",
       "      <td>0.10</td>\n",
       "      <td>20</td>\n",
       "      <td>0.190000</td>\n",
       "      <td>0.102500</td>\n",
       "      <td>20.000000</td>\n",
       "      <td>1359.916272</td>\n",
       "    </tr>\n",
       "    <tr>\n",
       "      <th>1</th>\n",
       "      <td>1</td>\n",
       "      <td>20221008_030317_3620108077</td>\n",
       "      <td>0.19</td>\n",
       "      <td>0.10</td>\n",
       "      <td>25</td>\n",
       "      <td>0.190000</td>\n",
       "      <td>0.104375</td>\n",
       "      <td>25.000000</td>\n",
       "      <td>1359.916272</td>\n",
       "    </tr>\n",
       "    <tr>\n",
       "      <th>2</th>\n",
       "      <td>2</td>\n",
       "      <td>20221008_030317_3620108077</td>\n",
       "      <td>0.19</td>\n",
       "      <td>0.15</td>\n",
       "      <td>20</td>\n",
       "      <td>0.192375</td>\n",
       "      <td>0.148125</td>\n",
       "      <td>20.250000</td>\n",
       "      <td>1195.161128</td>\n",
       "    </tr>\n",
       "    <tr>\n",
       "      <th>3</th>\n",
       "      <td>3</td>\n",
       "      <td>20221008_030317_3620108077</td>\n",
       "      <td>0.19</td>\n",
       "      <td>0.15</td>\n",
       "      <td>25</td>\n",
       "      <td>0.194137</td>\n",
       "      <td>0.145549</td>\n",
       "      <td>24.862291</td>\n",
       "      <td>1195.161128</td>\n",
       "    </tr>\n",
       "    <tr>\n",
       "      <th>4</th>\n",
       "      <td>4</td>\n",
       "      <td>20221008_030317_3620108077</td>\n",
       "      <td>0.19</td>\n",
       "      <td>0.20</td>\n",
       "      <td>20</td>\n",
       "      <td>0.194738</td>\n",
       "      <td>0.200013</td>\n",
       "      <td>19.993490</td>\n",
       "      <td>1210.054771</td>\n",
       "    </tr>\n",
       "    <tr>\n",
       "      <th>...</th>\n",
       "      <td>...</td>\n",
       "      <td>...</td>\n",
       "      <td>...</td>\n",
       "      <td>...</td>\n",
       "      <td>...</td>\n",
       "      <td>...</td>\n",
       "      <td>...</td>\n",
       "      <td>...</td>\n",
       "      <td>...</td>\n",
       "    </tr>\n",
       "    <tr>\n",
       "      <th>283</th>\n",
       "      <td>283</td>\n",
       "      <td>20220730_125009_3620112077</td>\n",
       "      <td>0.23</td>\n",
       "      <td>0.35</td>\n",
       "      <td>25</td>\n",
       "      <td>0.218500</td>\n",
       "      <td>0.361667</td>\n",
       "      <td>25.833333</td>\n",
       "      <td>68496.925343</td>\n",
       "    </tr>\n",
       "    <tr>\n",
       "      <th>284</th>\n",
       "      <td>284</td>\n",
       "      <td>20220730_125009_3620112077</td>\n",
       "      <td>0.23</td>\n",
       "      <td>0.40</td>\n",
       "      <td>20</td>\n",
       "      <td>0.224197</td>\n",
       "      <td>0.420278</td>\n",
       "      <td>20.125000</td>\n",
       "      <td>66851.860670</td>\n",
       "    </tr>\n",
       "    <tr>\n",
       "      <th>285</th>\n",
       "      <td>285</td>\n",
       "      <td>20220730_125009_3620112077</td>\n",
       "      <td>0.23</td>\n",
       "      <td>0.40</td>\n",
       "      <td>25</td>\n",
       "      <td>0.230000</td>\n",
       "      <td>0.420000</td>\n",
       "      <td>25.000000</td>\n",
       "      <td>66996.953552</td>\n",
       "    </tr>\n",
       "    <tr>\n",
       "      <th>286</th>\n",
       "      <td>286</td>\n",
       "      <td>20220730_125009_3620112077</td>\n",
       "      <td>0.23</td>\n",
       "      <td>0.45</td>\n",
       "      <td>20</td>\n",
       "      <td>0.219352</td>\n",
       "      <td>0.460833</td>\n",
       "      <td>20.185185</td>\n",
       "      <td>66682.547705</td>\n",
       "    </tr>\n",
       "    <tr>\n",
       "      <th>287</th>\n",
       "      <td>287</td>\n",
       "      <td>20220730_125009_3620112077</td>\n",
       "      <td>0.23</td>\n",
       "      <td>0.45</td>\n",
       "      <td>25</td>\n",
       "      <td>0.221375</td>\n",
       "      <td>0.466875</td>\n",
       "      <td>24.687500</td>\n",
       "      <td>66777.021729</td>\n",
       "    </tr>\n",
       "  </tbody>\n",
       "</table>\n",
       "<p>174 rows × 9 columns</p>\n",
       "</div>"
      ],
      "text/plain": [
       "     Unnamed: 0                       OBSID  AIA_N_GUESS  IRIS_N_GUESS  \\\n",
       "0             0  20221008_030317_3620108077         0.19          0.10   \n",
       "1             1  20221008_030317_3620108077         0.19          0.10   \n",
       "2             2  20221008_030317_3620108077         0.19          0.15   \n",
       "3             3  20221008_030317_3620108077         0.19          0.15   \n",
       "4             4  20221008_030317_3620108077         0.19          0.20   \n",
       "..          ...                         ...          ...           ...   \n",
       "283         283  20220730_125009_3620112077         0.23          0.35   \n",
       "284         284  20220730_125009_3620112077         0.23          0.40   \n",
       "285         285  20220730_125009_3620112077         0.23          0.40   \n",
       "286         286  20220730_125009_3620112077         0.23          0.45   \n",
       "287         287  20220730_125009_3620112077         0.23          0.45   \n",
       "\n",
       "     BLUR_GUESS  OPTIMIZED_AIA  OPTIMIZED_IRIS  OPTIMIZED_BLUR        RESULT  \n",
       "0            20       0.190000        0.102500       20.000000   1359.916272  \n",
       "1            25       0.190000        0.104375       25.000000   1359.916272  \n",
       "2            20       0.192375        0.148125       20.250000   1195.161128  \n",
       "3            25       0.194137        0.145549       24.862291   1195.161128  \n",
       "4            20       0.194738        0.200013       19.993490   1210.054771  \n",
       "..          ...            ...             ...             ...           ...  \n",
       "283          25       0.218500        0.361667       25.833333  68496.925343  \n",
       "284          20       0.224197        0.420278       20.125000  66851.860670  \n",
       "285          25       0.230000        0.420000       25.000000  66996.953552  \n",
       "286          20       0.219352        0.460833       20.185185  66682.547705  \n",
       "287          25       0.221375        0.466875       24.687500  66777.021729  \n",
       "\n",
       "[174 rows x 9 columns]"
      ]
     },
     "execution_count": 68,
     "metadata": {},
     "output_type": "execute_result"
    }
   ],
   "source": [
    "test"
   ]
  },
  {
   "cell_type": "code",
   "execution_count": 70,
   "id": "313a55fd-e3e6-49f3-9dad-b52ded103008",
   "metadata": {},
   "outputs": [],
   "source": [
    "minimize_csv.drop(minimize_csv[minimize_csv['RESULT'] == 100000].index, inplace=True)\n",
    "differential_csv.drop(differential_csv[differential_csv['RESULT'] == 100000].index, inplace=True)\n",
    "basin_csv.drop(basin_csv[basin_csv['RESULT'] == 100000].index, inplace=True)"
   ]
  },
  {
   "cell_type": "markdown",
   "id": "5243e699-cf40-4e3c-91e1-74a9077d9819",
   "metadata": {
    "tags": []
   },
   "source": [
    "## Basic Stats"
   ]
  },
  {
   "cell_type": "code",
   "execution_count": 71,
   "id": "ce7a0745-9722-4cd9-8956-eb101ed42965",
   "metadata": {},
   "outputs": [],
   "source": [
    "def get_statistics(df, column_name):\n",
    "    df_copy = df.copy()\n",
    "    print(f\"Mean {column_name}: \", np.round(df_copy[column_name].mean(), 6))\n",
    "    print(f\"Standard Deviation in {column_name}: \", np.round(df_copy[column_name].std(), 6))\n",
    "    print(f\"Median {column_name}: \", np.round(df_copy[column_name].median(), 6))\n",
    "    print(f\"Max {column_name}: \", df_copy[column_name].max())\n",
    "    print(f\"Min {column_name}: \", df_copy[column_name].min())"
   ]
  },
  {
   "cell_type": "markdown",
   "id": "e4430d68-e040-480a-a001-1c68a0702d90",
   "metadata": {
    "tags": []
   },
   "source": [
    "### Scipy Minimize"
   ]
  },
  {
   "cell_type": "code",
   "execution_count": 72,
   "id": "cab52be9-ea59-4df5-9b2e-6856e53a7325",
   "metadata": {},
   "outputs": [
    {
     "name": "stdout",
     "output_type": "stream",
     "text": [
      "Mean OPTIMIZED_AIA:  0.214907\n",
      "Standard Deviation in OPTIMIZED_AIA:  0.018199\n",
      "Median OPTIMIZED_AIA:  0.211495\n",
      "Max OPTIMIZED_AIA:  0.2567770919067214\n",
      "Min OPTIMIZED_AIA:  0.1797596450617285\n"
     ]
    }
   ],
   "source": [
    "get_statistics(minimize_csv, 'OPTIMIZED_AIA')"
   ]
  },
  {
   "cell_type": "code",
   "execution_count": 73,
   "id": "82cd1902-540f-4594-acbe-b3a72b221bd9",
   "metadata": {},
   "outputs": [
    {
     "name": "stdout",
     "output_type": "stream",
     "text": [
      "Mean OPTIMIZED_IRIS:  0.281563\n",
      "Standard Deviation in OPTIMIZED_IRIS:  0.102838\n",
      "Median OPTIMIZED_IRIS:  0.297338\n",
      "Max OPTIMIZED_IRIS:  0.4696527777777778\n",
      "Min OPTIMIZED_IRIS:  0.0887012031321445\n"
     ]
    }
   ],
   "source": [
    "get_statistics(minimize_csv, 'OPTIMIZED_IRIS')"
   ]
  },
  {
   "cell_type": "code",
   "execution_count": 74,
   "id": "9fcce545-2dc2-4664-bb1a-2f44ca8a505b",
   "metadata": {},
   "outputs": [
    {
     "name": "stdout",
     "output_type": "stream",
     "text": [
      "Mean OPTIMIZED_BLUR:  22.554918\n",
      "Standard Deviation in OPTIMIZED_BLUR:  2.777722\n",
      "Median OPTIMIZED_BLUR:  21.851852\n",
      "Max OPTIMIZED_BLUR:  32.39605957552203\n",
      "Min OPTIMIZED_BLUR:  17.49657064471881\n"
     ]
    }
   ],
   "source": [
    "get_statistics(minimize_csv, 'OPTIMIZED_BLUR')"
   ]
  },
  {
   "cell_type": "code",
   "execution_count": 75,
   "id": "40dd218e-a70a-4b84-aafc-d3d42c007264",
   "metadata": {},
   "outputs": [
    {
     "name": "stdout",
     "output_type": "stream",
     "text": [
      "Mean RESULT:  19937.174843\n",
      "Standard Deviation in RESULT:  29735.173754\n",
      "Median RESULT:  1195.161128\n",
      "Max RESULT:  71736.27946262652\n",
      "Min RESULT:  761.3941010239749\n"
     ]
    }
   ],
   "source": [
    "get_statistics(minimize_csv, 'RESULT')"
   ]
  },
  {
   "cell_type": "markdown",
   "id": "673e842b-2ca9-4ee7-87bc-290c8c4a2d31",
   "metadata": {
    "tags": []
   },
   "source": [
    "### Differential Evolution"
   ]
  },
  {
   "cell_type": "code",
   "execution_count": 76,
   "id": "bbdfc265-6025-4252-8c63-54ecc48c1964",
   "metadata": {},
   "outputs": [
    {
     "name": "stdout",
     "output_type": "stream",
     "text": [
      "Mean OPTIMIZED_AIA:  0.213215\n",
      "Standard Deviation in OPTIMIZED_AIA:  0.014362\n",
      "Median OPTIMIZED_AIA:  0.207527\n",
      "Max OPTIMIZED_AIA:  0.2484994251759107\n",
      "Min OPTIMIZED_AIA:  0.190424566415833\n"
     ]
    }
   ],
   "source": [
    "get_statistics(differential_csv, 'OPTIMIZED_AIA')"
   ]
  },
  {
   "cell_type": "code",
   "execution_count": 77,
   "id": "486d0182-bf4a-4d54-b351-bbfb3d148f86",
   "metadata": {},
   "outputs": [
    {
     "name": "stdout",
     "output_type": "stream",
     "text": [
      "Mean OPTIMIZED_IRIS:  0.285943\n",
      "Standard Deviation in OPTIMIZED_IRIS:  0.07879\n",
      "Median OPTIMIZED_IRIS:  0.273237\n",
      "Max OPTIMIZED_IRIS:  0.4933139405458646\n",
      "Min OPTIMIZED_IRIS:  0.1558441750128726\n"
     ]
    }
   ],
   "source": [
    "get_statistics(differential_csv, 'OPTIMIZED_IRIS')"
   ]
  },
  {
   "cell_type": "code",
   "execution_count": 78,
   "id": "dc945b42-ce80-483f-8720-84a8a87faa25",
   "metadata": {},
   "outputs": [
    {
     "name": "stdout",
     "output_type": "stream",
     "text": [
      "Mean OPTIMIZED_BLUR:  23.958051\n",
      "Standard Deviation in OPTIMIZED_BLUR:  2.692976\n",
      "Median OPTIMIZED_BLUR:  23.480692\n",
      "Max OPTIMIZED_BLUR:  29.926340017804915\n",
      "Min OPTIMIZED_BLUR:  20.000243933875165\n"
     ]
    }
   ],
   "source": [
    "get_statistics(differential_csv, 'OPTIMIZED_BLUR')"
   ]
  },
  {
   "cell_type": "code",
   "execution_count": 79,
   "id": "90aea80b-0a5d-4c8c-bf54-f12c70571e64",
   "metadata": {},
   "outputs": [
    {
     "name": "stdout",
     "output_type": "stream",
     "text": [
      "Mean RESULT:  15090.094865\n",
      "Standard Deviation in RESULT:  25666.14713\n",
      "Median RESULT:  926.187589\n",
      "Max RESULT:  66920.1981872239\n",
      "Min RESULT:  759.1132037351919\n"
     ]
    }
   ],
   "source": [
    "get_statistics(differential_csv, 'RESULT')"
   ]
  },
  {
   "cell_type": "markdown",
   "id": "b702b720-109c-4912-8e6a-07257c95741f",
   "metadata": {
    "tags": []
   },
   "source": [
    "### Basin Hopping"
   ]
  },
  {
   "cell_type": "code",
   "execution_count": 80,
   "id": "ddd4e25e-4d85-43c2-be23-f5703f37d091",
   "metadata": {},
   "outputs": [
    {
     "name": "stdout",
     "output_type": "stream",
     "text": [
      "Mean OPTIMIZED_AIA:  0.255986\n",
      "Standard Deviation in OPTIMIZED_AIA:  0.057933\n",
      "Median OPTIMIZED_AIA:  0.293379\n",
      "Max OPTIMIZED_AIA:  0.3\n",
      "Min OPTIMIZED_AIA:  0.1\n"
     ]
    }
   ],
   "source": [
    "get_statistics(basin_csv, 'OPTIMIZED_AIA')"
   ]
  },
  {
   "cell_type": "code",
   "execution_count": 81,
   "id": "a7ff2300-53f9-4789-ad47-26042b71ab4f",
   "metadata": {},
   "outputs": [
    {
     "name": "stdout",
     "output_type": "stream",
     "text": [
      "Mean OPTIMIZED_IRIS:  0.318812\n",
      "Standard Deviation in OPTIMIZED_IRIS:  0.103966\n",
      "Median OPTIMIZED_IRIS:  0.309099\n",
      "Max OPTIMIZED_IRIS:  0.5\n",
      "Min OPTIMIZED_IRIS:  0.1\n"
     ]
    }
   ],
   "source": [
    "get_statistics(basin_csv, 'OPTIMIZED_IRIS')"
   ]
  },
  {
   "cell_type": "code",
   "execution_count": 82,
   "id": "7f250fc0-08cf-4aaf-bbcc-2f3227f8927c",
   "metadata": {},
   "outputs": [
    {
     "name": "stdout",
     "output_type": "stream",
     "text": [
      "Mean OPTIMIZED_BLUR:  22.753841\n",
      "Standard Deviation in OPTIMIZED_BLUR:  2.465819\n",
      "Median OPTIMIZED_BLUR:  22.759985\n",
      "Max OPTIMIZED_BLUR:  27.63719566254376\n",
      "Min OPTIMIZED_BLUR:  20.0\n"
     ]
    }
   ],
   "source": [
    "get_statistics(basin_csv, 'OPTIMIZED_BLUR')"
   ]
  },
  {
   "cell_type": "code",
   "execution_count": 83,
   "id": "53d0199a-1df4-466a-8109-197c28efddd0",
   "metadata": {},
   "outputs": [
    {
     "name": "stdout",
     "output_type": "stream",
     "text": [
      "Mean RESULT:  15603.023768\n",
      "Standard Deviation in RESULT:  25678.724188\n",
      "Median RESULT:  1010.165112\n",
      "Max RESULT:  68160.18627559583\n",
      "Min RESULT:  763.5993606748762\n"
     ]
    }
   ],
   "source": [
    "get_statistics(basin_csv, 'RESULT')"
   ]
  },
  {
   "cell_type": "markdown",
   "id": "f31fa1e8-505e-44e2-a0f5-e0997373e939",
   "metadata": {},
   "source": [
    "## Comparing Methods"
   ]
  },
  {
   "cell_type": "code",
   "execution_count": 84,
   "id": "dcb5cfb7-a438-4055-bb47-fa3ed3ad3d14",
   "metadata": {},
   "outputs": [
    {
     "name": "stdout",
     "output_type": "stream",
     "text": [
      "Mean RESULT:  19937.174843\n",
      "Standard Deviation in RESULT:  29735.173754\n",
      "Median RESULT:  1195.161128\n",
      "Max RESULT:  71736.27946262652\n",
      "Min RESULT:  761.3941010239749\n",
      "\n",
      "\n",
      "Mean RESULT:  15090.094865\n",
      "Standard Deviation in RESULT:  25666.14713\n",
      "Median RESULT:  926.187589\n",
      "Max RESULT:  66920.1981872239\n",
      "Min RESULT:  759.1132037351919\n",
      "\n",
      "\n",
      "Mean RESULT:  15603.023768\n",
      "Standard Deviation in RESULT:  25678.724188\n",
      "Median RESULT:  1010.165112\n",
      "Max RESULT:  68160.18627559583\n",
      "Min RESULT:  763.5993606748762\n"
     ]
    }
   ],
   "source": [
    "get_statistics(minimize_csv, 'RESULT')\n",
    "print('\\n')\n",
    "get_statistics(differential_csv, 'RESULT')\n",
    "print('\\n')\n",
    "get_statistics(basin_csv, 'RESULT')"
   ]
  },
  {
   "cell_type": "markdown",
   "id": "e56c331e-6fed-4baf-b529-967987811c54",
   "metadata": {},
   "source": [
    "## Conclusions\n",
    "\n",
    "- differential evolution has lowest average result + standard deviation\n",
    "- however, also has highest runtime\n",
    "- basin hopping has slightly lower runtime and similar results\n",
    "- by increasing data, can observe effects of runtime + more"
   ]
  }
 ],
 "metadata": {
  "kernelspec": {
   "display_name": "Python 3 (ipykernel)",
   "language": "python",
   "name": "python3"
  },
  "language_info": {
   "codemirror_mode": {
    "name": "ipython",
    "version": 3
   },
   "file_extension": ".py",
   "mimetype": "text/x-python",
   "name": "python",
   "nbconvert_exporter": "python",
   "pygments_lexer": "ipython3",
   "version": "3.10.5"
  }
 },
 "nbformat": 4,
 "nbformat_minor": 5
}
